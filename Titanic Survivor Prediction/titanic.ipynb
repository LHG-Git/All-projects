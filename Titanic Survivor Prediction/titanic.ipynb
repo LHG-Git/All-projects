{
  "nbformat": 4,
  "nbformat_minor": 0,
  "metadata": {
    "colab": {
      "name": "기계최종본.ipynb",
      "provenance": [],
      "collapsed_sections": []
    },
    "kernelspec": {
      "name": "python3",
      "display_name": "Python 3"
    },
    "language_info": {
      "name": "python"
    }
  },
  "cells": [
    {
      "cell_type": "code",
      "execution_count": 1,
      "metadata": {
        "id": "Ez4AbWur3OG3"
      },
      "outputs": [],
      "source": [
        "# 필요한 라이브러리 불러오기\n",
        "import pandas as pd\n",
        "import numpy as np\n",
        "import seaborn as sns\n",
        "import matplotlib.pyplot as plt"
      ]
    },
    {
      "cell_type": "code",
      "source": [
        "# 구글과 연동시키기\n",
        "from google.colab import drive\n",
        "drive.mount('/content/drive')"
      ],
      "metadata": {
        "colab": {
          "base_uri": "https://localhost:8080/"
        },
        "id": "dKSHWZMh3S_r",
        "outputId": "f123e5fb-66b7-4765-bea5-0d041d9cd52b"
      },
      "execution_count": 2,
      "outputs": [
        {
          "output_type": "stream",
          "name": "stdout",
          "text": [
            "Mounted at /content/drive\n"
          ]
        }
      ]
    },
    {
      "cell_type": "code",
      "source": [
        "# 타이타닉 train 데이터 불러오기\n",
        "Tn_train = pd.read_csv('/content/drive/MyDrive/train.csv') \n",
        "Tn_train.head(20)  # head()함수를 통해 맨 앞  0~19줄 불러옴"
      ],
      "metadata": {
        "colab": {
          "base_uri": "https://localhost:8080/",
          "height": 676
        },
        "id": "AGMd8yHL3TCX",
        "outputId": "10faa7fc-228c-461b-e0d3-3e7d4992a8fb"
      },
      "execution_count": 3,
      "outputs": [
        {
          "output_type": "execute_result",
          "data": {
            "text/plain": [
              "    PassengerId  Survived  Pclass  \\\n",
              "0             1         0       3   \n",
              "1             2         1       1   \n",
              "2             3         1       3   \n",
              "3             4         1       1   \n",
              "4             5         0       3   \n",
              "5             6         0       3   \n",
              "6             7         0       1   \n",
              "7             8         0       3   \n",
              "8             9         1       3   \n",
              "9            10         1       2   \n",
              "10           11         1       3   \n",
              "11           12         1       1   \n",
              "12           13         0       3   \n",
              "13           14         0       3   \n",
              "14           15         0       3   \n",
              "15           16         1       2   \n",
              "16           17         0       3   \n",
              "17           18         1       2   \n",
              "18           19         0       3   \n",
              "19           20         1       3   \n",
              "\n",
              "                                                 Name     Sex   Age  SibSp  \\\n",
              "0                             Braund, Mr. Owen Harris    male  22.0      1   \n",
              "1   Cumings, Mrs. John Bradley (Florence Briggs Th...  female  38.0      1   \n",
              "2                              Heikkinen, Miss. Laina  female  26.0      0   \n",
              "3        Futrelle, Mrs. Jacques Heath (Lily May Peel)  female  35.0      1   \n",
              "4                            Allen, Mr. William Henry    male  35.0      0   \n",
              "5                                    Moran, Mr. James    male   NaN      0   \n",
              "6                             McCarthy, Mr. Timothy J    male  54.0      0   \n",
              "7                      Palsson, Master. Gosta Leonard    male   2.0      3   \n",
              "8   Johnson, Mrs. Oscar W (Elisabeth Vilhelmina Berg)  female  27.0      0   \n",
              "9                 Nasser, Mrs. Nicholas (Adele Achem)  female  14.0      1   \n",
              "10                    Sandstrom, Miss. Marguerite Rut  female   4.0      1   \n",
              "11                           Bonnell, Miss. Elizabeth  female  58.0      0   \n",
              "12                     Saundercock, Mr. William Henry    male  20.0      0   \n",
              "13                        Andersson, Mr. Anders Johan    male  39.0      1   \n",
              "14               Vestrom, Miss. Hulda Amanda Adolfina  female  14.0      0   \n",
              "15                   Hewlett, Mrs. (Mary D Kingcome)   female  55.0      0   \n",
              "16                               Rice, Master. Eugene    male   2.0      4   \n",
              "17                       Williams, Mr. Charles Eugene    male   NaN      0   \n",
              "18  Vander Planke, Mrs. Julius (Emelia Maria Vande...  female  31.0      1   \n",
              "19                            Masselmani, Mrs. Fatima  female   NaN      0   \n",
              "\n",
              "    Parch            Ticket     Fare Cabin Embarked  \n",
              "0       0         A/5 21171   7.2500   NaN        S  \n",
              "1       0          PC 17599  71.2833   C85        C  \n",
              "2       0  STON/O2. 3101282   7.9250   NaN        S  \n",
              "3       0            113803  53.1000  C123        S  \n",
              "4       0            373450   8.0500   NaN        S  \n",
              "5       0            330877   8.4583   NaN        Q  \n",
              "6       0             17463  51.8625   E46        S  \n",
              "7       1            349909  21.0750   NaN        S  \n",
              "8       2            347742  11.1333   NaN        S  \n",
              "9       0            237736  30.0708   NaN        C  \n",
              "10      1           PP 9549  16.7000    G6        S  \n",
              "11      0            113783  26.5500  C103        S  \n",
              "12      0         A/5. 2151   8.0500   NaN        S  \n",
              "13      5            347082  31.2750   NaN        S  \n",
              "14      0            350406   7.8542   NaN        S  \n",
              "15      0            248706  16.0000   NaN        S  \n",
              "16      1            382652  29.1250   NaN        Q  \n",
              "17      0            244373  13.0000   NaN        S  \n",
              "18      0            345763  18.0000   NaN        S  \n",
              "19      0              2649   7.2250   NaN        C  "
            ],
            "text/html": [
              "\n",
              "  <div id=\"df-3c2ae1ed-beaf-4d66-a2a0-8fcc031637e9\">\n",
              "    <div class=\"colab-df-container\">\n",
              "      <div>\n",
              "<style scoped>\n",
              "    .dataframe tbody tr th:only-of-type {\n",
              "        vertical-align: middle;\n",
              "    }\n",
              "\n",
              "    .dataframe tbody tr th {\n",
              "        vertical-align: top;\n",
              "    }\n",
              "\n",
              "    .dataframe thead th {\n",
              "        text-align: right;\n",
              "    }\n",
              "</style>\n",
              "<table border=\"1\" class=\"dataframe\">\n",
              "  <thead>\n",
              "    <tr style=\"text-align: right;\">\n",
              "      <th></th>\n",
              "      <th>PassengerId</th>\n",
              "      <th>Survived</th>\n",
              "      <th>Pclass</th>\n",
              "      <th>Name</th>\n",
              "      <th>Sex</th>\n",
              "      <th>Age</th>\n",
              "      <th>SibSp</th>\n",
              "      <th>Parch</th>\n",
              "      <th>Ticket</th>\n",
              "      <th>Fare</th>\n",
              "      <th>Cabin</th>\n",
              "      <th>Embarked</th>\n",
              "    </tr>\n",
              "  </thead>\n",
              "  <tbody>\n",
              "    <tr>\n",
              "      <th>0</th>\n",
              "      <td>1</td>\n",
              "      <td>0</td>\n",
              "      <td>3</td>\n",
              "      <td>Braund, Mr. Owen Harris</td>\n",
              "      <td>male</td>\n",
              "      <td>22.0</td>\n",
              "      <td>1</td>\n",
              "      <td>0</td>\n",
              "      <td>A/5 21171</td>\n",
              "      <td>7.2500</td>\n",
              "      <td>NaN</td>\n",
              "      <td>S</td>\n",
              "    </tr>\n",
              "    <tr>\n",
              "      <th>1</th>\n",
              "      <td>2</td>\n",
              "      <td>1</td>\n",
              "      <td>1</td>\n",
              "      <td>Cumings, Mrs. John Bradley (Florence Briggs Th...</td>\n",
              "      <td>female</td>\n",
              "      <td>38.0</td>\n",
              "      <td>1</td>\n",
              "      <td>0</td>\n",
              "      <td>PC 17599</td>\n",
              "      <td>71.2833</td>\n",
              "      <td>C85</td>\n",
              "      <td>C</td>\n",
              "    </tr>\n",
              "    <tr>\n",
              "      <th>2</th>\n",
              "      <td>3</td>\n",
              "      <td>1</td>\n",
              "      <td>3</td>\n",
              "      <td>Heikkinen, Miss. Laina</td>\n",
              "      <td>female</td>\n",
              "      <td>26.0</td>\n",
              "      <td>0</td>\n",
              "      <td>0</td>\n",
              "      <td>STON/O2. 3101282</td>\n",
              "      <td>7.9250</td>\n",
              "      <td>NaN</td>\n",
              "      <td>S</td>\n",
              "    </tr>\n",
              "    <tr>\n",
              "      <th>3</th>\n",
              "      <td>4</td>\n",
              "      <td>1</td>\n",
              "      <td>1</td>\n",
              "      <td>Futrelle, Mrs. Jacques Heath (Lily May Peel)</td>\n",
              "      <td>female</td>\n",
              "      <td>35.0</td>\n",
              "      <td>1</td>\n",
              "      <td>0</td>\n",
              "      <td>113803</td>\n",
              "      <td>53.1000</td>\n",
              "      <td>C123</td>\n",
              "      <td>S</td>\n",
              "    </tr>\n",
              "    <tr>\n",
              "      <th>4</th>\n",
              "      <td>5</td>\n",
              "      <td>0</td>\n",
              "      <td>3</td>\n",
              "      <td>Allen, Mr. William Henry</td>\n",
              "      <td>male</td>\n",
              "      <td>35.0</td>\n",
              "      <td>0</td>\n",
              "      <td>0</td>\n",
              "      <td>373450</td>\n",
              "      <td>8.0500</td>\n",
              "      <td>NaN</td>\n",
              "      <td>S</td>\n",
              "    </tr>\n",
              "    <tr>\n",
              "      <th>5</th>\n",
              "      <td>6</td>\n",
              "      <td>0</td>\n",
              "      <td>3</td>\n",
              "      <td>Moran, Mr. James</td>\n",
              "      <td>male</td>\n",
              "      <td>NaN</td>\n",
              "      <td>0</td>\n",
              "      <td>0</td>\n",
              "      <td>330877</td>\n",
              "      <td>8.4583</td>\n",
              "      <td>NaN</td>\n",
              "      <td>Q</td>\n",
              "    </tr>\n",
              "    <tr>\n",
              "      <th>6</th>\n",
              "      <td>7</td>\n",
              "      <td>0</td>\n",
              "      <td>1</td>\n",
              "      <td>McCarthy, Mr. Timothy J</td>\n",
              "      <td>male</td>\n",
              "      <td>54.0</td>\n",
              "      <td>0</td>\n",
              "      <td>0</td>\n",
              "      <td>17463</td>\n",
              "      <td>51.8625</td>\n",
              "      <td>E46</td>\n",
              "      <td>S</td>\n",
              "    </tr>\n",
              "    <tr>\n",
              "      <th>7</th>\n",
              "      <td>8</td>\n",
              "      <td>0</td>\n",
              "      <td>3</td>\n",
              "      <td>Palsson, Master. Gosta Leonard</td>\n",
              "      <td>male</td>\n",
              "      <td>2.0</td>\n",
              "      <td>3</td>\n",
              "      <td>1</td>\n",
              "      <td>349909</td>\n",
              "      <td>21.0750</td>\n",
              "      <td>NaN</td>\n",
              "      <td>S</td>\n",
              "    </tr>\n",
              "    <tr>\n",
              "      <th>8</th>\n",
              "      <td>9</td>\n",
              "      <td>1</td>\n",
              "      <td>3</td>\n",
              "      <td>Johnson, Mrs. Oscar W (Elisabeth Vilhelmina Berg)</td>\n",
              "      <td>female</td>\n",
              "      <td>27.0</td>\n",
              "      <td>0</td>\n",
              "      <td>2</td>\n",
              "      <td>347742</td>\n",
              "      <td>11.1333</td>\n",
              "      <td>NaN</td>\n",
              "      <td>S</td>\n",
              "    </tr>\n",
              "    <tr>\n",
              "      <th>9</th>\n",
              "      <td>10</td>\n",
              "      <td>1</td>\n",
              "      <td>2</td>\n",
              "      <td>Nasser, Mrs. Nicholas (Adele Achem)</td>\n",
              "      <td>female</td>\n",
              "      <td>14.0</td>\n",
              "      <td>1</td>\n",
              "      <td>0</td>\n",
              "      <td>237736</td>\n",
              "      <td>30.0708</td>\n",
              "      <td>NaN</td>\n",
              "      <td>C</td>\n",
              "    </tr>\n",
              "    <tr>\n",
              "      <th>10</th>\n",
              "      <td>11</td>\n",
              "      <td>1</td>\n",
              "      <td>3</td>\n",
              "      <td>Sandstrom, Miss. Marguerite Rut</td>\n",
              "      <td>female</td>\n",
              "      <td>4.0</td>\n",
              "      <td>1</td>\n",
              "      <td>1</td>\n",
              "      <td>PP 9549</td>\n",
              "      <td>16.7000</td>\n",
              "      <td>G6</td>\n",
              "      <td>S</td>\n",
              "    </tr>\n",
              "    <tr>\n",
              "      <th>11</th>\n",
              "      <td>12</td>\n",
              "      <td>1</td>\n",
              "      <td>1</td>\n",
              "      <td>Bonnell, Miss. Elizabeth</td>\n",
              "      <td>female</td>\n",
              "      <td>58.0</td>\n",
              "      <td>0</td>\n",
              "      <td>0</td>\n",
              "      <td>113783</td>\n",
              "      <td>26.5500</td>\n",
              "      <td>C103</td>\n",
              "      <td>S</td>\n",
              "    </tr>\n",
              "    <tr>\n",
              "      <th>12</th>\n",
              "      <td>13</td>\n",
              "      <td>0</td>\n",
              "      <td>3</td>\n",
              "      <td>Saundercock, Mr. William Henry</td>\n",
              "      <td>male</td>\n",
              "      <td>20.0</td>\n",
              "      <td>0</td>\n",
              "      <td>0</td>\n",
              "      <td>A/5. 2151</td>\n",
              "      <td>8.0500</td>\n",
              "      <td>NaN</td>\n",
              "      <td>S</td>\n",
              "    </tr>\n",
              "    <tr>\n",
              "      <th>13</th>\n",
              "      <td>14</td>\n",
              "      <td>0</td>\n",
              "      <td>3</td>\n",
              "      <td>Andersson, Mr. Anders Johan</td>\n",
              "      <td>male</td>\n",
              "      <td>39.0</td>\n",
              "      <td>1</td>\n",
              "      <td>5</td>\n",
              "      <td>347082</td>\n",
              "      <td>31.2750</td>\n",
              "      <td>NaN</td>\n",
              "      <td>S</td>\n",
              "    </tr>\n",
              "    <tr>\n",
              "      <th>14</th>\n",
              "      <td>15</td>\n",
              "      <td>0</td>\n",
              "      <td>3</td>\n",
              "      <td>Vestrom, Miss. Hulda Amanda Adolfina</td>\n",
              "      <td>female</td>\n",
              "      <td>14.0</td>\n",
              "      <td>0</td>\n",
              "      <td>0</td>\n",
              "      <td>350406</td>\n",
              "      <td>7.8542</td>\n",
              "      <td>NaN</td>\n",
              "      <td>S</td>\n",
              "    </tr>\n",
              "    <tr>\n",
              "      <th>15</th>\n",
              "      <td>16</td>\n",
              "      <td>1</td>\n",
              "      <td>2</td>\n",
              "      <td>Hewlett, Mrs. (Mary D Kingcome)</td>\n",
              "      <td>female</td>\n",
              "      <td>55.0</td>\n",
              "      <td>0</td>\n",
              "      <td>0</td>\n",
              "      <td>248706</td>\n",
              "      <td>16.0000</td>\n",
              "      <td>NaN</td>\n",
              "      <td>S</td>\n",
              "    </tr>\n",
              "    <tr>\n",
              "      <th>16</th>\n",
              "      <td>17</td>\n",
              "      <td>0</td>\n",
              "      <td>3</td>\n",
              "      <td>Rice, Master. Eugene</td>\n",
              "      <td>male</td>\n",
              "      <td>2.0</td>\n",
              "      <td>4</td>\n",
              "      <td>1</td>\n",
              "      <td>382652</td>\n",
              "      <td>29.1250</td>\n",
              "      <td>NaN</td>\n",
              "      <td>Q</td>\n",
              "    </tr>\n",
              "    <tr>\n",
              "      <th>17</th>\n",
              "      <td>18</td>\n",
              "      <td>1</td>\n",
              "      <td>2</td>\n",
              "      <td>Williams, Mr. Charles Eugene</td>\n",
              "      <td>male</td>\n",
              "      <td>NaN</td>\n",
              "      <td>0</td>\n",
              "      <td>0</td>\n",
              "      <td>244373</td>\n",
              "      <td>13.0000</td>\n",
              "      <td>NaN</td>\n",
              "      <td>S</td>\n",
              "    </tr>\n",
              "    <tr>\n",
              "      <th>18</th>\n",
              "      <td>19</td>\n",
              "      <td>0</td>\n",
              "      <td>3</td>\n",
              "      <td>Vander Planke, Mrs. Julius (Emelia Maria Vande...</td>\n",
              "      <td>female</td>\n",
              "      <td>31.0</td>\n",
              "      <td>1</td>\n",
              "      <td>0</td>\n",
              "      <td>345763</td>\n",
              "      <td>18.0000</td>\n",
              "      <td>NaN</td>\n",
              "      <td>S</td>\n",
              "    </tr>\n",
              "    <tr>\n",
              "      <th>19</th>\n",
              "      <td>20</td>\n",
              "      <td>1</td>\n",
              "      <td>3</td>\n",
              "      <td>Masselmani, Mrs. Fatima</td>\n",
              "      <td>female</td>\n",
              "      <td>NaN</td>\n",
              "      <td>0</td>\n",
              "      <td>0</td>\n",
              "      <td>2649</td>\n",
              "      <td>7.2250</td>\n",
              "      <td>NaN</td>\n",
              "      <td>C</td>\n",
              "    </tr>\n",
              "  </tbody>\n",
              "</table>\n",
              "</div>\n",
              "      <button class=\"colab-df-convert\" onclick=\"convertToInteractive('df-3c2ae1ed-beaf-4d66-a2a0-8fcc031637e9')\"\n",
              "              title=\"Convert this dataframe to an interactive table.\"\n",
              "              style=\"display:none;\">\n",
              "        \n",
              "  <svg xmlns=\"http://www.w3.org/2000/svg\" height=\"24px\"viewBox=\"0 0 24 24\"\n",
              "       width=\"24px\">\n",
              "    <path d=\"M0 0h24v24H0V0z\" fill=\"none\"/>\n",
              "    <path d=\"M18.56 5.44l.94 2.06.94-2.06 2.06-.94-2.06-.94-.94-2.06-.94 2.06-2.06.94zm-11 1L8.5 8.5l.94-2.06 2.06-.94-2.06-.94L8.5 2.5l-.94 2.06-2.06.94zm10 10l.94 2.06.94-2.06 2.06-.94-2.06-.94-.94-2.06-.94 2.06-2.06.94z\"/><path d=\"M17.41 7.96l-1.37-1.37c-.4-.4-.92-.59-1.43-.59-.52 0-1.04.2-1.43.59L10.3 9.45l-7.72 7.72c-.78.78-.78 2.05 0 2.83L4 21.41c.39.39.9.59 1.41.59.51 0 1.02-.2 1.41-.59l7.78-7.78 2.81-2.81c.8-.78.8-2.07 0-2.86zM5.41 20L4 18.59l7.72-7.72 1.47 1.35L5.41 20z\"/>\n",
              "  </svg>\n",
              "      </button>\n",
              "      \n",
              "  <style>\n",
              "    .colab-df-container {\n",
              "      display:flex;\n",
              "      flex-wrap:wrap;\n",
              "      gap: 12px;\n",
              "    }\n",
              "\n",
              "    .colab-df-convert {\n",
              "      background-color: #E8F0FE;\n",
              "      border: none;\n",
              "      border-radius: 50%;\n",
              "      cursor: pointer;\n",
              "      display: none;\n",
              "      fill: #1967D2;\n",
              "      height: 32px;\n",
              "      padding: 0 0 0 0;\n",
              "      width: 32px;\n",
              "    }\n",
              "\n",
              "    .colab-df-convert:hover {\n",
              "      background-color: #E2EBFA;\n",
              "      box-shadow: 0px 1px 2px rgba(60, 64, 67, 0.3), 0px 1px 3px 1px rgba(60, 64, 67, 0.15);\n",
              "      fill: #174EA6;\n",
              "    }\n",
              "\n",
              "    [theme=dark] .colab-df-convert {\n",
              "      background-color: #3B4455;\n",
              "      fill: #D2E3FC;\n",
              "    }\n",
              "\n",
              "    [theme=dark] .colab-df-convert:hover {\n",
              "      background-color: #434B5C;\n",
              "      box-shadow: 0px 1px 3px 1px rgba(0, 0, 0, 0.15);\n",
              "      filter: drop-shadow(0px 1px 2px rgba(0, 0, 0, 0.3));\n",
              "      fill: #FFFFFF;\n",
              "    }\n",
              "  </style>\n",
              "\n",
              "      <script>\n",
              "        const buttonEl =\n",
              "          document.querySelector('#df-3c2ae1ed-beaf-4d66-a2a0-8fcc031637e9 button.colab-df-convert');\n",
              "        buttonEl.style.display =\n",
              "          google.colab.kernel.accessAllowed ? 'block' : 'none';\n",
              "\n",
              "        async function convertToInteractive(key) {\n",
              "          const element = document.querySelector('#df-3c2ae1ed-beaf-4d66-a2a0-8fcc031637e9');\n",
              "          const dataTable =\n",
              "            await google.colab.kernel.invokeFunction('convertToInteractive',\n",
              "                                                     [key], {});\n",
              "          if (!dataTable) return;\n",
              "\n",
              "          const docLinkHtml = 'Like what you see? Visit the ' +\n",
              "            '<a target=\"_blank\" href=https://colab.research.google.com/notebooks/data_table.ipynb>data table notebook</a>'\n",
              "            + ' to learn more about interactive tables.';\n",
              "          element.innerHTML = '';\n",
              "          dataTable['output_type'] = 'display_data';\n",
              "          await google.colab.output.renderOutput(dataTable, element);\n",
              "          const docLink = document.createElement('div');\n",
              "          docLink.innerHTML = docLinkHtml;\n",
              "          element.appendChild(docLink);\n",
              "        }\n",
              "      </script>\n",
              "    </div>\n",
              "  </div>\n",
              "  "
            ]
          },
          "metadata": {},
          "execution_count": 3
        }
      ]
    },
    {
      "cell_type": "code",
      "source": [
        "# 타이타닉 test 데이터 불러오기\n",
        "Tn_test = pd.read_csv('/content/drive/MyDrive/test.csv') \n",
        "Tn_test.head(20)  # head()함수를 통해 맨 앞  0~19줄 불러옴"
      ],
      "metadata": {
        "colab": {
          "base_uri": "https://localhost:8080/",
          "height": 676
        },
        "id": "bI62cNGn3TEn",
        "outputId": "50253e80-aef1-4842-9762-fd785a1e19a0"
      },
      "execution_count": 4,
      "outputs": [
        {
          "output_type": "execute_result",
          "data": {
            "text/plain": [
              "    PassengerId  Pclass                                               Name  \\\n",
              "0           892       3                                   Kelly, Mr. James   \n",
              "1           893       3                   Wilkes, Mrs. James (Ellen Needs)   \n",
              "2           894       2                          Myles, Mr. Thomas Francis   \n",
              "3           895       3                                   Wirz, Mr. Albert   \n",
              "4           896       3       Hirvonen, Mrs. Alexander (Helga E Lindqvist)   \n",
              "5           897       3                         Svensson, Mr. Johan Cervin   \n",
              "6           898       3                               Connolly, Miss. Kate   \n",
              "7           899       2                       Caldwell, Mr. Albert Francis   \n",
              "8           900       3          Abrahim, Mrs. Joseph (Sophie Halaut Easu)   \n",
              "9           901       3                            Davies, Mr. John Samuel   \n",
              "10          902       3                                   Ilieff, Mr. Ylio   \n",
              "11          903       1                         Jones, Mr. Charles Cresson   \n",
              "12          904       1      Snyder, Mrs. John Pillsbury (Nelle Stevenson)   \n",
              "13          905       2                               Howard, Mr. Benjamin   \n",
              "14          906       1  Chaffee, Mrs. Herbert Fuller (Carrie Constance...   \n",
              "15          907       2      del Carlo, Mrs. Sebastiano (Argenia Genovesi)   \n",
              "16          908       2                                  Keane, Mr. Daniel   \n",
              "17          909       3                                  Assaf, Mr. Gerios   \n",
              "18          910       3                       Ilmakangas, Miss. Ida Livija   \n",
              "19          911       3              Assaf Khalil, Mrs. Mariana (Miriam\")\"   \n",
              "\n",
              "       Sex   Age  SibSp  Parch            Ticket     Fare Cabin Embarked  \n",
              "0     male  34.5      0      0            330911   7.8292   NaN        Q  \n",
              "1   female  47.0      1      0            363272   7.0000   NaN        S  \n",
              "2     male  62.0      0      0            240276   9.6875   NaN        Q  \n",
              "3     male  27.0      0      0            315154   8.6625   NaN        S  \n",
              "4   female  22.0      1      1           3101298  12.2875   NaN        S  \n",
              "5     male  14.0      0      0              7538   9.2250   NaN        S  \n",
              "6   female  30.0      0      0            330972   7.6292   NaN        Q  \n",
              "7     male  26.0      1      1            248738  29.0000   NaN        S  \n",
              "8   female  18.0      0      0              2657   7.2292   NaN        C  \n",
              "9     male  21.0      2      0         A/4 48871  24.1500   NaN        S  \n",
              "10    male   NaN      0      0            349220   7.8958   NaN        S  \n",
              "11    male  46.0      0      0               694  26.0000   NaN        S  \n",
              "12  female  23.0      1      0             21228  82.2667   B45        S  \n",
              "13    male  63.0      1      0             24065  26.0000   NaN        S  \n",
              "14  female  47.0      1      0       W.E.P. 5734  61.1750   E31        S  \n",
              "15  female  24.0      1      0     SC/PARIS 2167  27.7208   NaN        C  \n",
              "16    male  35.0      0      0            233734  12.3500   NaN        Q  \n",
              "17    male  21.0      0      0              2692   7.2250   NaN        C  \n",
              "18  female  27.0      1      0  STON/O2. 3101270   7.9250   NaN        S  \n",
              "19  female  45.0      0      0              2696   7.2250   NaN        C  "
            ],
            "text/html": [
              "\n",
              "  <div id=\"df-71a1bc21-788d-4f83-b729-6faf1039a5be\">\n",
              "    <div class=\"colab-df-container\">\n",
              "      <div>\n",
              "<style scoped>\n",
              "    .dataframe tbody tr th:only-of-type {\n",
              "        vertical-align: middle;\n",
              "    }\n",
              "\n",
              "    .dataframe tbody tr th {\n",
              "        vertical-align: top;\n",
              "    }\n",
              "\n",
              "    .dataframe thead th {\n",
              "        text-align: right;\n",
              "    }\n",
              "</style>\n",
              "<table border=\"1\" class=\"dataframe\">\n",
              "  <thead>\n",
              "    <tr style=\"text-align: right;\">\n",
              "      <th></th>\n",
              "      <th>PassengerId</th>\n",
              "      <th>Pclass</th>\n",
              "      <th>Name</th>\n",
              "      <th>Sex</th>\n",
              "      <th>Age</th>\n",
              "      <th>SibSp</th>\n",
              "      <th>Parch</th>\n",
              "      <th>Ticket</th>\n",
              "      <th>Fare</th>\n",
              "      <th>Cabin</th>\n",
              "      <th>Embarked</th>\n",
              "    </tr>\n",
              "  </thead>\n",
              "  <tbody>\n",
              "    <tr>\n",
              "      <th>0</th>\n",
              "      <td>892</td>\n",
              "      <td>3</td>\n",
              "      <td>Kelly, Mr. James</td>\n",
              "      <td>male</td>\n",
              "      <td>34.5</td>\n",
              "      <td>0</td>\n",
              "      <td>0</td>\n",
              "      <td>330911</td>\n",
              "      <td>7.8292</td>\n",
              "      <td>NaN</td>\n",
              "      <td>Q</td>\n",
              "    </tr>\n",
              "    <tr>\n",
              "      <th>1</th>\n",
              "      <td>893</td>\n",
              "      <td>3</td>\n",
              "      <td>Wilkes, Mrs. James (Ellen Needs)</td>\n",
              "      <td>female</td>\n",
              "      <td>47.0</td>\n",
              "      <td>1</td>\n",
              "      <td>0</td>\n",
              "      <td>363272</td>\n",
              "      <td>7.0000</td>\n",
              "      <td>NaN</td>\n",
              "      <td>S</td>\n",
              "    </tr>\n",
              "    <tr>\n",
              "      <th>2</th>\n",
              "      <td>894</td>\n",
              "      <td>2</td>\n",
              "      <td>Myles, Mr. Thomas Francis</td>\n",
              "      <td>male</td>\n",
              "      <td>62.0</td>\n",
              "      <td>0</td>\n",
              "      <td>0</td>\n",
              "      <td>240276</td>\n",
              "      <td>9.6875</td>\n",
              "      <td>NaN</td>\n",
              "      <td>Q</td>\n",
              "    </tr>\n",
              "    <tr>\n",
              "      <th>3</th>\n",
              "      <td>895</td>\n",
              "      <td>3</td>\n",
              "      <td>Wirz, Mr. Albert</td>\n",
              "      <td>male</td>\n",
              "      <td>27.0</td>\n",
              "      <td>0</td>\n",
              "      <td>0</td>\n",
              "      <td>315154</td>\n",
              "      <td>8.6625</td>\n",
              "      <td>NaN</td>\n",
              "      <td>S</td>\n",
              "    </tr>\n",
              "    <tr>\n",
              "      <th>4</th>\n",
              "      <td>896</td>\n",
              "      <td>3</td>\n",
              "      <td>Hirvonen, Mrs. Alexander (Helga E Lindqvist)</td>\n",
              "      <td>female</td>\n",
              "      <td>22.0</td>\n",
              "      <td>1</td>\n",
              "      <td>1</td>\n",
              "      <td>3101298</td>\n",
              "      <td>12.2875</td>\n",
              "      <td>NaN</td>\n",
              "      <td>S</td>\n",
              "    </tr>\n",
              "    <tr>\n",
              "      <th>5</th>\n",
              "      <td>897</td>\n",
              "      <td>3</td>\n",
              "      <td>Svensson, Mr. Johan Cervin</td>\n",
              "      <td>male</td>\n",
              "      <td>14.0</td>\n",
              "      <td>0</td>\n",
              "      <td>0</td>\n",
              "      <td>7538</td>\n",
              "      <td>9.2250</td>\n",
              "      <td>NaN</td>\n",
              "      <td>S</td>\n",
              "    </tr>\n",
              "    <tr>\n",
              "      <th>6</th>\n",
              "      <td>898</td>\n",
              "      <td>3</td>\n",
              "      <td>Connolly, Miss. Kate</td>\n",
              "      <td>female</td>\n",
              "      <td>30.0</td>\n",
              "      <td>0</td>\n",
              "      <td>0</td>\n",
              "      <td>330972</td>\n",
              "      <td>7.6292</td>\n",
              "      <td>NaN</td>\n",
              "      <td>Q</td>\n",
              "    </tr>\n",
              "    <tr>\n",
              "      <th>7</th>\n",
              "      <td>899</td>\n",
              "      <td>2</td>\n",
              "      <td>Caldwell, Mr. Albert Francis</td>\n",
              "      <td>male</td>\n",
              "      <td>26.0</td>\n",
              "      <td>1</td>\n",
              "      <td>1</td>\n",
              "      <td>248738</td>\n",
              "      <td>29.0000</td>\n",
              "      <td>NaN</td>\n",
              "      <td>S</td>\n",
              "    </tr>\n",
              "    <tr>\n",
              "      <th>8</th>\n",
              "      <td>900</td>\n",
              "      <td>3</td>\n",
              "      <td>Abrahim, Mrs. Joseph (Sophie Halaut Easu)</td>\n",
              "      <td>female</td>\n",
              "      <td>18.0</td>\n",
              "      <td>0</td>\n",
              "      <td>0</td>\n",
              "      <td>2657</td>\n",
              "      <td>7.2292</td>\n",
              "      <td>NaN</td>\n",
              "      <td>C</td>\n",
              "    </tr>\n",
              "    <tr>\n",
              "      <th>9</th>\n",
              "      <td>901</td>\n",
              "      <td>3</td>\n",
              "      <td>Davies, Mr. John Samuel</td>\n",
              "      <td>male</td>\n",
              "      <td>21.0</td>\n",
              "      <td>2</td>\n",
              "      <td>0</td>\n",
              "      <td>A/4 48871</td>\n",
              "      <td>24.1500</td>\n",
              "      <td>NaN</td>\n",
              "      <td>S</td>\n",
              "    </tr>\n",
              "    <tr>\n",
              "      <th>10</th>\n",
              "      <td>902</td>\n",
              "      <td>3</td>\n",
              "      <td>Ilieff, Mr. Ylio</td>\n",
              "      <td>male</td>\n",
              "      <td>NaN</td>\n",
              "      <td>0</td>\n",
              "      <td>0</td>\n",
              "      <td>349220</td>\n",
              "      <td>7.8958</td>\n",
              "      <td>NaN</td>\n",
              "      <td>S</td>\n",
              "    </tr>\n",
              "    <tr>\n",
              "      <th>11</th>\n",
              "      <td>903</td>\n",
              "      <td>1</td>\n",
              "      <td>Jones, Mr. Charles Cresson</td>\n",
              "      <td>male</td>\n",
              "      <td>46.0</td>\n",
              "      <td>0</td>\n",
              "      <td>0</td>\n",
              "      <td>694</td>\n",
              "      <td>26.0000</td>\n",
              "      <td>NaN</td>\n",
              "      <td>S</td>\n",
              "    </tr>\n",
              "    <tr>\n",
              "      <th>12</th>\n",
              "      <td>904</td>\n",
              "      <td>1</td>\n",
              "      <td>Snyder, Mrs. John Pillsbury (Nelle Stevenson)</td>\n",
              "      <td>female</td>\n",
              "      <td>23.0</td>\n",
              "      <td>1</td>\n",
              "      <td>0</td>\n",
              "      <td>21228</td>\n",
              "      <td>82.2667</td>\n",
              "      <td>B45</td>\n",
              "      <td>S</td>\n",
              "    </tr>\n",
              "    <tr>\n",
              "      <th>13</th>\n",
              "      <td>905</td>\n",
              "      <td>2</td>\n",
              "      <td>Howard, Mr. Benjamin</td>\n",
              "      <td>male</td>\n",
              "      <td>63.0</td>\n",
              "      <td>1</td>\n",
              "      <td>0</td>\n",
              "      <td>24065</td>\n",
              "      <td>26.0000</td>\n",
              "      <td>NaN</td>\n",
              "      <td>S</td>\n",
              "    </tr>\n",
              "    <tr>\n",
              "      <th>14</th>\n",
              "      <td>906</td>\n",
              "      <td>1</td>\n",
              "      <td>Chaffee, Mrs. Herbert Fuller (Carrie Constance...</td>\n",
              "      <td>female</td>\n",
              "      <td>47.0</td>\n",
              "      <td>1</td>\n",
              "      <td>0</td>\n",
              "      <td>W.E.P. 5734</td>\n",
              "      <td>61.1750</td>\n",
              "      <td>E31</td>\n",
              "      <td>S</td>\n",
              "    </tr>\n",
              "    <tr>\n",
              "      <th>15</th>\n",
              "      <td>907</td>\n",
              "      <td>2</td>\n",
              "      <td>del Carlo, Mrs. Sebastiano (Argenia Genovesi)</td>\n",
              "      <td>female</td>\n",
              "      <td>24.0</td>\n",
              "      <td>1</td>\n",
              "      <td>0</td>\n",
              "      <td>SC/PARIS 2167</td>\n",
              "      <td>27.7208</td>\n",
              "      <td>NaN</td>\n",
              "      <td>C</td>\n",
              "    </tr>\n",
              "    <tr>\n",
              "      <th>16</th>\n",
              "      <td>908</td>\n",
              "      <td>2</td>\n",
              "      <td>Keane, Mr. Daniel</td>\n",
              "      <td>male</td>\n",
              "      <td>35.0</td>\n",
              "      <td>0</td>\n",
              "      <td>0</td>\n",
              "      <td>233734</td>\n",
              "      <td>12.3500</td>\n",
              "      <td>NaN</td>\n",
              "      <td>Q</td>\n",
              "    </tr>\n",
              "    <tr>\n",
              "      <th>17</th>\n",
              "      <td>909</td>\n",
              "      <td>3</td>\n",
              "      <td>Assaf, Mr. Gerios</td>\n",
              "      <td>male</td>\n",
              "      <td>21.0</td>\n",
              "      <td>0</td>\n",
              "      <td>0</td>\n",
              "      <td>2692</td>\n",
              "      <td>7.2250</td>\n",
              "      <td>NaN</td>\n",
              "      <td>C</td>\n",
              "    </tr>\n",
              "    <tr>\n",
              "      <th>18</th>\n",
              "      <td>910</td>\n",
              "      <td>3</td>\n",
              "      <td>Ilmakangas, Miss. Ida Livija</td>\n",
              "      <td>female</td>\n",
              "      <td>27.0</td>\n",
              "      <td>1</td>\n",
              "      <td>0</td>\n",
              "      <td>STON/O2. 3101270</td>\n",
              "      <td>7.9250</td>\n",
              "      <td>NaN</td>\n",
              "      <td>S</td>\n",
              "    </tr>\n",
              "    <tr>\n",
              "      <th>19</th>\n",
              "      <td>911</td>\n",
              "      <td>3</td>\n",
              "      <td>Assaf Khalil, Mrs. Mariana (Miriam\")\"</td>\n",
              "      <td>female</td>\n",
              "      <td>45.0</td>\n",
              "      <td>0</td>\n",
              "      <td>0</td>\n",
              "      <td>2696</td>\n",
              "      <td>7.2250</td>\n",
              "      <td>NaN</td>\n",
              "      <td>C</td>\n",
              "    </tr>\n",
              "  </tbody>\n",
              "</table>\n",
              "</div>\n",
              "      <button class=\"colab-df-convert\" onclick=\"convertToInteractive('df-71a1bc21-788d-4f83-b729-6faf1039a5be')\"\n",
              "              title=\"Convert this dataframe to an interactive table.\"\n",
              "              style=\"display:none;\">\n",
              "        \n",
              "  <svg xmlns=\"http://www.w3.org/2000/svg\" height=\"24px\"viewBox=\"0 0 24 24\"\n",
              "       width=\"24px\">\n",
              "    <path d=\"M0 0h24v24H0V0z\" fill=\"none\"/>\n",
              "    <path d=\"M18.56 5.44l.94 2.06.94-2.06 2.06-.94-2.06-.94-.94-2.06-.94 2.06-2.06.94zm-11 1L8.5 8.5l.94-2.06 2.06-.94-2.06-.94L8.5 2.5l-.94 2.06-2.06.94zm10 10l.94 2.06.94-2.06 2.06-.94-2.06-.94-.94-2.06-.94 2.06-2.06.94z\"/><path d=\"M17.41 7.96l-1.37-1.37c-.4-.4-.92-.59-1.43-.59-.52 0-1.04.2-1.43.59L10.3 9.45l-7.72 7.72c-.78.78-.78 2.05 0 2.83L4 21.41c.39.39.9.59 1.41.59.51 0 1.02-.2 1.41-.59l7.78-7.78 2.81-2.81c.8-.78.8-2.07 0-2.86zM5.41 20L4 18.59l7.72-7.72 1.47 1.35L5.41 20z\"/>\n",
              "  </svg>\n",
              "      </button>\n",
              "      \n",
              "  <style>\n",
              "    .colab-df-container {\n",
              "      display:flex;\n",
              "      flex-wrap:wrap;\n",
              "      gap: 12px;\n",
              "    }\n",
              "\n",
              "    .colab-df-convert {\n",
              "      background-color: #E8F0FE;\n",
              "      border: none;\n",
              "      border-radius: 50%;\n",
              "      cursor: pointer;\n",
              "      display: none;\n",
              "      fill: #1967D2;\n",
              "      height: 32px;\n",
              "      padding: 0 0 0 0;\n",
              "      width: 32px;\n",
              "    }\n",
              "\n",
              "    .colab-df-convert:hover {\n",
              "      background-color: #E2EBFA;\n",
              "      box-shadow: 0px 1px 2px rgba(60, 64, 67, 0.3), 0px 1px 3px 1px rgba(60, 64, 67, 0.15);\n",
              "      fill: #174EA6;\n",
              "    }\n",
              "\n",
              "    [theme=dark] .colab-df-convert {\n",
              "      background-color: #3B4455;\n",
              "      fill: #D2E3FC;\n",
              "    }\n",
              "\n",
              "    [theme=dark] .colab-df-convert:hover {\n",
              "      background-color: #434B5C;\n",
              "      box-shadow: 0px 1px 3px 1px rgba(0, 0, 0, 0.15);\n",
              "      filter: drop-shadow(0px 1px 2px rgba(0, 0, 0, 0.3));\n",
              "      fill: #FFFFFF;\n",
              "    }\n",
              "  </style>\n",
              "\n",
              "      <script>\n",
              "        const buttonEl =\n",
              "          document.querySelector('#df-71a1bc21-788d-4f83-b729-6faf1039a5be button.colab-df-convert');\n",
              "        buttonEl.style.display =\n",
              "          google.colab.kernel.accessAllowed ? 'block' : 'none';\n",
              "\n",
              "        async function convertToInteractive(key) {\n",
              "          const element = document.querySelector('#df-71a1bc21-788d-4f83-b729-6faf1039a5be');\n",
              "          const dataTable =\n",
              "            await google.colab.kernel.invokeFunction('convertToInteractive',\n",
              "                                                     [key], {});\n",
              "          if (!dataTable) return;\n",
              "\n",
              "          const docLinkHtml = 'Like what you see? Visit the ' +\n",
              "            '<a target=\"_blank\" href=https://colab.research.google.com/notebooks/data_table.ipynb>data table notebook</a>'\n",
              "            + ' to learn more about interactive tables.';\n",
              "          element.innerHTML = '';\n",
              "          dataTable['output_type'] = 'display_data';\n",
              "          await google.colab.output.renderOutput(dataTable, element);\n",
              "          const docLink = document.createElement('div');\n",
              "          docLink.innerHTML = docLinkHtml;\n",
              "          element.appendChild(docLink);\n",
              "        }\n",
              "      </script>\n",
              "    </div>\n",
              "  </div>\n",
              "  "
            ]
          },
          "metadata": {},
          "execution_count": 4
        }
      ]
    },
    {
      "cell_type": "code",
      "source": [
        "# 타이타닉 submission 데이터 불러오기\n",
        "Tn_submission = pd.read_csv('/content/drive/MyDrive/gender_submission.csv')\n",
        "Tn_submission.head(20) # head()함수를 통해 맨 앞  0~19줄 불러옴"
      ],
      "metadata": {
        "colab": {
          "base_uri": "https://localhost:8080/",
          "height": 676
        },
        "id": "EgK4Y1xD3THJ",
        "outputId": "5b86b2d0-fc0b-4cfd-f23f-056ef430bc9a"
      },
      "execution_count": 5,
      "outputs": [
        {
          "output_type": "execute_result",
          "data": {
            "text/plain": [
              "    PassengerId  Survived\n",
              "0           892         0\n",
              "1           893         1\n",
              "2           894         0\n",
              "3           895         0\n",
              "4           896         1\n",
              "5           897         0\n",
              "6           898         1\n",
              "7           899         0\n",
              "8           900         1\n",
              "9           901         0\n",
              "10          902         0\n",
              "11          903         0\n",
              "12          904         1\n",
              "13          905         0\n",
              "14          906         1\n",
              "15          907         1\n",
              "16          908         0\n",
              "17          909         0\n",
              "18          910         1\n",
              "19          911         1"
            ],
            "text/html": [
              "\n",
              "  <div id=\"df-81d09785-76f8-4135-92bf-68875d5b49a8\">\n",
              "    <div class=\"colab-df-container\">\n",
              "      <div>\n",
              "<style scoped>\n",
              "    .dataframe tbody tr th:only-of-type {\n",
              "        vertical-align: middle;\n",
              "    }\n",
              "\n",
              "    .dataframe tbody tr th {\n",
              "        vertical-align: top;\n",
              "    }\n",
              "\n",
              "    .dataframe thead th {\n",
              "        text-align: right;\n",
              "    }\n",
              "</style>\n",
              "<table border=\"1\" class=\"dataframe\">\n",
              "  <thead>\n",
              "    <tr style=\"text-align: right;\">\n",
              "      <th></th>\n",
              "      <th>PassengerId</th>\n",
              "      <th>Survived</th>\n",
              "    </tr>\n",
              "  </thead>\n",
              "  <tbody>\n",
              "    <tr>\n",
              "      <th>0</th>\n",
              "      <td>892</td>\n",
              "      <td>0</td>\n",
              "    </tr>\n",
              "    <tr>\n",
              "      <th>1</th>\n",
              "      <td>893</td>\n",
              "      <td>1</td>\n",
              "    </tr>\n",
              "    <tr>\n",
              "      <th>2</th>\n",
              "      <td>894</td>\n",
              "      <td>0</td>\n",
              "    </tr>\n",
              "    <tr>\n",
              "      <th>3</th>\n",
              "      <td>895</td>\n",
              "      <td>0</td>\n",
              "    </tr>\n",
              "    <tr>\n",
              "      <th>4</th>\n",
              "      <td>896</td>\n",
              "      <td>1</td>\n",
              "    </tr>\n",
              "    <tr>\n",
              "      <th>5</th>\n",
              "      <td>897</td>\n",
              "      <td>0</td>\n",
              "    </tr>\n",
              "    <tr>\n",
              "      <th>6</th>\n",
              "      <td>898</td>\n",
              "      <td>1</td>\n",
              "    </tr>\n",
              "    <tr>\n",
              "      <th>7</th>\n",
              "      <td>899</td>\n",
              "      <td>0</td>\n",
              "    </tr>\n",
              "    <tr>\n",
              "      <th>8</th>\n",
              "      <td>900</td>\n",
              "      <td>1</td>\n",
              "    </tr>\n",
              "    <tr>\n",
              "      <th>9</th>\n",
              "      <td>901</td>\n",
              "      <td>0</td>\n",
              "    </tr>\n",
              "    <tr>\n",
              "      <th>10</th>\n",
              "      <td>902</td>\n",
              "      <td>0</td>\n",
              "    </tr>\n",
              "    <tr>\n",
              "      <th>11</th>\n",
              "      <td>903</td>\n",
              "      <td>0</td>\n",
              "    </tr>\n",
              "    <tr>\n",
              "      <th>12</th>\n",
              "      <td>904</td>\n",
              "      <td>1</td>\n",
              "    </tr>\n",
              "    <tr>\n",
              "      <th>13</th>\n",
              "      <td>905</td>\n",
              "      <td>0</td>\n",
              "    </tr>\n",
              "    <tr>\n",
              "      <th>14</th>\n",
              "      <td>906</td>\n",
              "      <td>1</td>\n",
              "    </tr>\n",
              "    <tr>\n",
              "      <th>15</th>\n",
              "      <td>907</td>\n",
              "      <td>1</td>\n",
              "    </tr>\n",
              "    <tr>\n",
              "      <th>16</th>\n",
              "      <td>908</td>\n",
              "      <td>0</td>\n",
              "    </tr>\n",
              "    <tr>\n",
              "      <th>17</th>\n",
              "      <td>909</td>\n",
              "      <td>0</td>\n",
              "    </tr>\n",
              "    <tr>\n",
              "      <th>18</th>\n",
              "      <td>910</td>\n",
              "      <td>1</td>\n",
              "    </tr>\n",
              "    <tr>\n",
              "      <th>19</th>\n",
              "      <td>911</td>\n",
              "      <td>1</td>\n",
              "    </tr>\n",
              "  </tbody>\n",
              "</table>\n",
              "</div>\n",
              "      <button class=\"colab-df-convert\" onclick=\"convertToInteractive('df-81d09785-76f8-4135-92bf-68875d5b49a8')\"\n",
              "              title=\"Convert this dataframe to an interactive table.\"\n",
              "              style=\"display:none;\">\n",
              "        \n",
              "  <svg xmlns=\"http://www.w3.org/2000/svg\" height=\"24px\"viewBox=\"0 0 24 24\"\n",
              "       width=\"24px\">\n",
              "    <path d=\"M0 0h24v24H0V0z\" fill=\"none\"/>\n",
              "    <path d=\"M18.56 5.44l.94 2.06.94-2.06 2.06-.94-2.06-.94-.94-2.06-.94 2.06-2.06.94zm-11 1L8.5 8.5l.94-2.06 2.06-.94-2.06-.94L8.5 2.5l-.94 2.06-2.06.94zm10 10l.94 2.06.94-2.06 2.06-.94-2.06-.94-.94-2.06-.94 2.06-2.06.94z\"/><path d=\"M17.41 7.96l-1.37-1.37c-.4-.4-.92-.59-1.43-.59-.52 0-1.04.2-1.43.59L10.3 9.45l-7.72 7.72c-.78.78-.78 2.05 0 2.83L4 21.41c.39.39.9.59 1.41.59.51 0 1.02-.2 1.41-.59l7.78-7.78 2.81-2.81c.8-.78.8-2.07 0-2.86zM5.41 20L4 18.59l7.72-7.72 1.47 1.35L5.41 20z\"/>\n",
              "  </svg>\n",
              "      </button>\n",
              "      \n",
              "  <style>\n",
              "    .colab-df-container {\n",
              "      display:flex;\n",
              "      flex-wrap:wrap;\n",
              "      gap: 12px;\n",
              "    }\n",
              "\n",
              "    .colab-df-convert {\n",
              "      background-color: #E8F0FE;\n",
              "      border: none;\n",
              "      border-radius: 50%;\n",
              "      cursor: pointer;\n",
              "      display: none;\n",
              "      fill: #1967D2;\n",
              "      height: 32px;\n",
              "      padding: 0 0 0 0;\n",
              "      width: 32px;\n",
              "    }\n",
              "\n",
              "    .colab-df-convert:hover {\n",
              "      background-color: #E2EBFA;\n",
              "      box-shadow: 0px 1px 2px rgba(60, 64, 67, 0.3), 0px 1px 3px 1px rgba(60, 64, 67, 0.15);\n",
              "      fill: #174EA6;\n",
              "    }\n",
              "\n",
              "    [theme=dark] .colab-df-convert {\n",
              "      background-color: #3B4455;\n",
              "      fill: #D2E3FC;\n",
              "    }\n",
              "\n",
              "    [theme=dark] .colab-df-convert:hover {\n",
              "      background-color: #434B5C;\n",
              "      box-shadow: 0px 1px 3px 1px rgba(0, 0, 0, 0.15);\n",
              "      filter: drop-shadow(0px 1px 2px rgba(0, 0, 0, 0.3));\n",
              "      fill: #FFFFFF;\n",
              "    }\n",
              "  </style>\n",
              "\n",
              "      <script>\n",
              "        const buttonEl =\n",
              "          document.querySelector('#df-81d09785-76f8-4135-92bf-68875d5b49a8 button.colab-df-convert');\n",
              "        buttonEl.style.display =\n",
              "          google.colab.kernel.accessAllowed ? 'block' : 'none';\n",
              "\n",
              "        async function convertToInteractive(key) {\n",
              "          const element = document.querySelector('#df-81d09785-76f8-4135-92bf-68875d5b49a8');\n",
              "          const dataTable =\n",
              "            await google.colab.kernel.invokeFunction('convertToInteractive',\n",
              "                                                     [key], {});\n",
              "          if (!dataTable) return;\n",
              "\n",
              "          const docLinkHtml = 'Like what you see? Visit the ' +\n",
              "            '<a target=\"_blank\" href=https://colab.research.google.com/notebooks/data_table.ipynb>data table notebook</a>'\n",
              "            + ' to learn more about interactive tables.';\n",
              "          element.innerHTML = '';\n",
              "          dataTable['output_type'] = 'display_data';\n",
              "          await google.colab.output.renderOutput(dataTable, element);\n",
              "          const docLink = document.createElement('div');\n",
              "          docLink.innerHTML = docLinkHtml;\n",
              "          element.appendChild(docLink);\n",
              "        }\n",
              "      </script>\n",
              "    </div>\n",
              "  </div>\n",
              "  "
            ]
          },
          "metadata": {},
          "execution_count": 5
        }
      ]
    },
    {
      "cell_type": "code",
      "source": [
        "# axis = 1을 사용하여 train 데이터와 test 데이터에 필요없는 값들인 'PassengerId','Ticket','Cabin'를 없애줌\n",
        "Tn_train = Tn_train.drop(['PassengerId','Ticket','Cabin'], axis=1)\n",
        "Tn_test = Tn_test.drop(['PassengerId','Ticket','Cabin'], axis=1)"
      ],
      "metadata": {
        "id": "57OBmJi-3TJO"
      },
      "execution_count": 6,
      "outputs": []
    },
    {
      "cell_type": "code",
      "source": [
        "# 객실 등급별 생존률\n",
        "plt.figure(figsize = (8, 8))\n",
        "plt.title(\"Survival rate by Pclass\")\n",
        "sns.countplot('Pclass', hue = 'Survived', data = Tn_train)\n",
        "plt.show()"
      ],
      "metadata": {
        "colab": {
          "base_uri": "https://localhost:8080/",
          "height": 569
        },
        "id": "5F849W6Ax-Uo",
        "outputId": "4eebf4ff-8088-43f6-da65-c0ed60bed18d"
      },
      "execution_count": 7,
      "outputs": [
        {
          "output_type": "stream",
          "name": "stderr",
          "text": [
            "/usr/local/lib/python3.7/dist-packages/seaborn/_decorators.py:43: FutureWarning: Pass the following variable as a keyword arg: x. From version 0.12, the only valid positional argument will be `data`, and passing other arguments without an explicit keyword will result in an error or misinterpretation.\n",
            "  FutureWarning\n"
          ]
        },
        {
          "output_type": "display_data",
          "data": {
            "text/plain": [
              "<Figure size 576x576 with 1 Axes>"
            ],
            "image/png": "[encoded data removed]"
          },
          "metadata": {
            "needs_background": "light"
          }
        }
      ]
    },
    {
      "cell_type": "code",
      "source": [
        "# 성별에 따른 생존률\n",
        "plt.figure(figsize=(8,8))\n",
        "sns.countplot(x='Survived', data=Tn_train, hue='Sex').set(title='Survived Passengers based on sex')"
      ],
      "metadata": {
        "colab": {
          "base_uri": "https://localhost:8080/",
          "height": 531
        },
        "id": "zP_pdBQCx-W2",
        "outputId": "be4ef24c-313e-4896-cad2-196414a955bc"
      },
      "execution_count": 8,
      "outputs": [
        {
          "output_type": "execute_result",
          "data": {
            "text/plain": [
              "[Text(0.5, 1.0, 'Survived Passengers based on sex')]"
            ]
          },
          "metadata": {},
          "execution_count": 8
        },
        {
          "output_type": "display_data",
          "data": {
            "text/plain": [
              "<Figure size 576x576 with 1 Axes>"
            ],
            "image/png": "[encoded data removed]"
          },
          "metadata": {
            "needs_background": "light"
          }
        }
      ]
    },
    {
      "cell_type": "code",
      "source": [
        "# 탑승한 곳에 따른 생존률\n",
        "plt.figure(figsize=(10,8))\n",
        "sns.countplot(x='Embarked', data=Tn_train, hue = 'Survived').set(title='Survival rate based on where you are on board')"
      ],
      "metadata": {
        "colab": {
          "base_uri": "https://localhost:8080/",
          "height": 531
        },
        "id": "JpWoGjAkyer-",
        "outputId": "bc6f9b0e-339b-43d4-8631-08f4ec1a3da7"
      },
      "execution_count": 9,
      "outputs": [
        {
          "output_type": "execute_result",
          "data": {
            "text/plain": [
              "[Text(0.5, 1.0, 'Survival rate based on where you are on board')]"
            ]
          },
          "metadata": {},
          "execution_count": 9
        },
        {
          "output_type": "display_data",
          "data": {
            "text/plain": [
              "<Figure size 720x576 with 1 Axes>"
            ],
            "image/png": "[encoded data removed]"
          },
          "metadata": {
            "needs_background": "light"
          }
        }
      ]
    },
    {
      "cell_type": "code",
      "source": [
        "# 타이타닉호에 탑승한 나이 분포 밀도\n",
        "plt.figure(figsize = (15, 7))\n",
        "plt.style.use('ggplot')\n",
        "plt.title(\"Passenger\")\n",
        "sns.distplot(Tn_train['Age'])\n",
        "plt.show()"
      ],
      "metadata": {
        "colab": {
          "base_uri": "https://localhost:8080/",
          "height": 518
        },
        "id": "FoZIhJTMx-ZX",
        "outputId": "79adc1d0-4d9f-4c90-9284-167359a27885"
      },
      "execution_count": 10,
      "outputs": [
        {
          "output_type": "stream",
          "name": "stderr",
          "text": [
            "/usr/local/lib/python3.7/dist-packages/seaborn/distributions.py:2619: FutureWarning: `distplot` is a deprecated function and will be removed in a future version. Please adapt your code to use either `displot` (a figure-level function with similar flexibility) or `histplot` (an axes-level function for histograms).\n",
            "  warnings.warn(msg, FutureWarning)\n"
          ]
        },
        {
          "output_type": "display_data",
          "data": {
            "text/plain": [
              "<Figure size 1080x504 with 1 Axes>"
            ],
            "image/png": "[encoded data removed]"
          },
          "metadata": {
            "needs_background": "light"
          }
        }
      ]
    },
    {
      "cell_type": "code",
      "source": [
        "# 생존율 빈 리스트 생성 \n",
        "List = []\n",
        " \n",
        "# 1살 부터 생존율 구하기\n",
        "for i in range(1,80):\n",
        "    List.append(Tn_train[Tn_train['Age'] < i]['Survived'].sum() / len(Tn_train[Tn_train['Age'] < i]['Survived'])) # N살의 생존 인원수를 N살의 전체 인원수로 나누면 됨.\n",
        "                                                                                                                  # 전체 인원수 분의 생존 인원수를 통해 생존 인원수의 비율을 구함.\n",
        " \n",
        "plt.figure(figsize=(15,7))\n",
        "plt.plot(List)\n",
        "plt.title('Survival Rate by Age')\n",
        "plt.ylabel('Survival Rate')\n",
        "plt.xlabel('Age')                 # <해석>\n",
        "plt.show()                        # 20세 이하의 생존율이 높음.\n",
        "                                  # 위 그래프를 통해 보면 20~40대의 승객이 가장 많지만, 생존율은 매우 낮음.\n",
        "                                  # 50세 이상은 인원수가 적기 때문에 생존율이 큰 의미를 갖지는 않음."
      ],
      "metadata": {
        "colab": {
          "base_uri": "https://localhost:8080/",
          "height": 462
        },
        "id": "gldxQeMrx-br",
        "outputId": "88538ff4-d9ff-46d6-a6e4-30ed9401c4f7"
      },
      "execution_count": 13,
      "outputs": [
        {
          "output_type": "display_data",
          "data": {
            "text/plain": [
              "<Figure size 1080x504 with 1 Axes>"
            ],
            "image/png": "[encoded data removed]"
          },
          "metadata": {}
        }
      ]
    },
    {
      "cell_type": "code",
      "source": [
        "# isna().sum()을 사용하여 타이타닉 train 데이터에 컬럼별로 존재하는 na값의 개수를 나타냄.\n",
        "Tn_train.isna().sum()"
      ],
      "metadata": {
        "colab": {
          "base_uri": "https://localhost:8080/"
        },
        "id": "Em-XV1HE3TLz",
        "outputId": "b808f761-8df1-4165-b71c-6de95f3850c0"
      },
      "execution_count": 14,
      "outputs": [
        {
          "output_type": "execute_result",
          "data": {
            "text/plain": [
              "Survived      0\n",
              "Pclass        0\n",
              "Name          0\n",
              "Sex           0\n",
              "Age         177\n",
              "SibSp         0\n",
              "Parch         0\n",
              "Fare          0\n",
              "Embarked      2\n",
              "dtype: int64"
            ]
          },
          "metadata": {},
          "execution_count": 14
        }
      ]
    },
    {
      "cell_type": "code",
      "source": [
        "# isna().sum()을 사용하여 타이타닉 test 데이터에 컬럼별로 존재하는 na값의 개수를 나타냄.\n",
        "Tn_test.isna().sum()"
      ],
      "metadata": {
        "colab": {
          "base_uri": "https://localhost:8080/"
        },
        "id": "2V2Y2wiC3TOU",
        "outputId": "31158608-6edb-4bf5-815f-335da2301044"
      },
      "execution_count": 15,
      "outputs": [
        {
          "output_type": "execute_result",
          "data": {
            "text/plain": [
              "Pclass       0\n",
              "Name         0\n",
              "Sex          0\n",
              "Age         86\n",
              "SibSp        0\n",
              "Parch        0\n",
              "Fare         1\n",
              "Embarked     0\n",
              "dtype: int64"
            ]
          },
          "metadata": {},
          "execution_count": 15
        }
      ]
    },
    {
      "cell_type": "code",
      "source": [
        "# Embarked의 경우 어디에서 탔는지에 따라 생존율과 사망률을 구분할 수 있기 때문에 의미 있는 데이터임을 알 수 있음. \n",
        "# Embarked의 결측값에 가장 많이 탑승한 곳인 'S'를 fillna()함수를 통해 채워줌. \n",
        "Tn_train['Embarked'] = Tn_train['Embarked'].fillna('S')\n",
        "Tn_test['Embarked'] = Tn_test['Embarked'].fillna('S')"
      ],
      "metadata": {
        "id": "vnVaDUvw361v"
      },
      "execution_count": 18,
      "outputs": []
    },
    {
      "cell_type": "code",
      "source": [
        "# na값이 존재하는 'Age'값에 fillna(Tn_train['Age'].mean()를 이용해 na값 대신 Age의 평균값을 채워줌.\n",
        "# na값이 존재하는 'Fare'값에 fillna(Tn_train['Fare'].mean()를 이용해 na값 대신 Fare의 평균값을 채워줌.\n",
        "Tn_train['Age'] = Tn_train['Age'].fillna(Tn_train['Age'].mean())\n",
        "Tn_test['Age'] = Tn_test['Age'].fillna(Tn_test['Age'].mean())\n",
        "Tn_train['Fare'] = Tn_train['Fare'].fillna(Tn_train['Fare'].mean())\n",
        "Tn_test['Fare'] = Tn_test['Fare'].fillna(Tn_test['Fare'].mean())"
      ],
      "metadata": {
        "id": "n4V_GivU3TQu"
      },
      "execution_count": 19,
      "outputs": []
    },
    {
      "cell_type": "code",
      "source": [
        "# train 데이터의 na값을 채워준 후 다시 isna().sum()을 이용하여 na값 존재여부를 확인함.\n",
        "Tn_train.isna().sum()"
      ],
      "metadata": {
        "colab": {
          "base_uri": "https://localhost:8080/"
        },
        "id": "l3UGb7Bv3TTI",
        "outputId": "d916adf0-1f47-4daa-8f38-b6bae0840d1c"
      },
      "execution_count": 20,
      "outputs": [
        {
          "output_type": "execute_result",
          "data": {
            "text/plain": [
              "Survived    0\n",
              "Pclass      0\n",
              "Name        0\n",
              "Sex         0\n",
              "Age         0\n",
              "SibSp       0\n",
              "Parch       0\n",
              "Fare        0\n",
              "Embarked    0\n",
              "dtype: int64"
            ]
          },
          "metadata": {},
          "execution_count": 20
        }
      ]
    },
    {
      "cell_type": "code",
      "source": [
        "#  test 데이터의 na값을 채워준 후 다시 isna().sum()을 이용하여 na값 존재여부를 확인함.\n",
        "Tn_test.isna().sum()"
      ],
      "metadata": {
        "colab": {
          "base_uri": "https://localhost:8080/"
        },
        "id": "xyGwhdY-3TVt",
        "outputId": "cd70521d-6f4f-4241-e905-b446d56d46b2"
      },
      "execution_count": 21,
      "outputs": [
        {
          "output_type": "execute_result",
          "data": {
            "text/plain": [
              "Pclass      0\n",
              "Name        0\n",
              "Sex         0\n",
              "Age         0\n",
              "SibSp       0\n",
              "Parch       0\n",
              "Fare        0\n",
              "Embarked    0\n",
              "dtype: int64"
            ]
          },
          "metadata": {},
          "execution_count": 21
        }
      ]
    },
    {
      "cell_type": "code",
      "source": [
        "# 성별을 'male':0, 'female':1로 수치형으로 변환해줌.\n",
        "# Embarked를 'C':0, 'Q':1, 'S':2로 수치형으로 변환해줌.\n",
        "Tn_train['Sex'] = Tn_train['Sex'].replace({'male':0, 'female':1})\n",
        "Tn_test['Sex'] = Tn_test['Sex'].replace({'male':0, 'female':1})\n",
        "Tn_train['Embarked'] = Tn_train['Embarked'].replace({'C':0, 'Q':1, 'S':2})\n",
        "Tn_test['Embarked'] = Tn_test['Embarked'].replace({'C':0, 'Q':1, 'S':2})"
      ],
      "metadata": {
        "id": "BGjmhibC3TYK"
      },
      "execution_count": 22,
      "outputs": []
    },
    {
      "cell_type": "code",
      "source": [
        "# 'Name'필드에서 신분을 나타내는 단어를 뽑아서 'Title' 필드에 할당해줌.\n",
        "Tn_train[\"Title\"] = Tn_train.Name.str.extract(\"([A-Za-z]+)\\.\", expand = False)\n",
        "Tn_test[\"Title\"]  =  Tn_test.Name.str.extract(\"([A-Za-z]+)\\.\", expand = False)"
      ],
      "metadata": {
        "id": "20HxKKZ4uH7D"
      },
      "execution_count": 23,
      "outputs": []
    },
    {
      "cell_type": "code",
      "source": [
        "# 훈련 자료에서 \"Capt\", \"Col\", \"Don\", \"Jonkheer\", \"Major\", \"Rev\", \"Sir\" 칭호를 \"MaleRare\"로 교체.\n",
        "Tn_train[\"Title\"] = Tn_train[\"Title\"].replace([\"Capt\", \"Col\", \"Don\", \"Jonkheer\", \"Major\", \"Rev\", \"Sir\"], \"MaleRare\")\n",
        "# 훈련 자료에서 \"Countess\", \"Lady\", \"Mlle\", \"Mme\", \"Ms\" 칭호를 \"FemaleRare\"로 교체.\n",
        "Tn_train[\"Title\"] = Tn_train[\"Title\"].replace([\"Countess\", \"Lady\", \"Mlle\", \"Mme\", \"Ms\"], \"FemaleRare\")\n",
        "# 훈련 자료에서 \"Dr\" 칭호를 \"Rare\"로 교체\n",
        "Tn_train[\"Title\"] = Tn_train[\"Title\"].replace([\"Dr\"], \"Rare\")\n",
        "\n",
        "# 테스트 자료에서 \"Capt\", \"Col\", \"Don\", \"Jonkheer\", \"Major\", \"Rev\", \"Sir\" 칭호를 \"MaleRare\"로 교체.\n",
        "Tn_test[\"Title\"] = Tn_test[\"Title\"].replace([\"Capt\", \"Col\", \"Don\", \"Jonkheer\", \"Major\", \"Rev\", \"Sir\"], \"MaleRare\")\n",
        "# 테스트 자료에서 \"Countess\", \"Lady\", \"Mlle\", \"Mme\", \"Ms\"칭호를 \"FemaleRare\"로 교체.\n",
        "Tn_test[\"Title\"] = Tn_test[\"Title\"].replace([\"Countess\", \"Lady\", \"Mlle\", \"Mme\", \"Ms\"], \"FemaleRare\")\n",
        "# 테스트 자료에서 \"Dr\"칭호를 \"Rare\"로 교체.\n",
        "Tn_test[\"Title\"] = Tn_test[\"Title\"].replace([\"Dr\"], \"Rare\")"
      ],
      "metadata": {
        "id": "Ei_O9nPPuH9Z"
      },
      "execution_count": 24,
      "outputs": []
    },
    {
      "cell_type": "code",
      "source": [
        "title_mapping = {\"FemaleRare\": 1, \"Mrs\": 2, \"Miss\": 3, \"Master\": 4, \"Rare\": 5, \"MaleRare\": 6, \"Mr\": 7} # 각 칭호에 매칭할 숫자.\n",
        "\n",
        "Tn_train[\"Title\"] = Tn_train[\"Title\"].map(title_mapping)\n",
        "Tn_train[\"Title\"] = Tn_train[\"Title\"].fillna(0) # NaN (Null) 값을 0으로 채움.\n",
        "\n",
        "Tn_test[\"Title\"] = Tn_test[\"Title\"].map(title_mapping)\n",
        "Tn_test[\"Title\"] = Tn_test[\"Title\"].fillna(0) # NaN (Null) 값을 0으로 채움.\n",
        "\n"
      ],
      "metadata": {
        "id": "AY7TW29EuH_5"
      },
      "execution_count": 25,
      "outputs": []
    },
    {
      "cell_type": "code",
      "source": [
        "Tn_train = Tn_train.drop([\"Name\"], axis = 1) # Title로 뽑은 정보를 제외한 나머지 Name을 삭제시킴.\n",
        "Tn_test  =  Tn_test.drop([\"Name\"], axis = 1) # Title로 뽑은 정보를 제외한 나머지 Name을 삭제시킴."
      ],
      "metadata": {
        "id": "voB82sAouINl"
      },
      "execution_count": 26,
      "outputs": []
    },
    {
      "cell_type": "code",
      "source": [
        "# <input 데이터>\n",
        "# x_train은 Survived를 제외한 모든 컬럼들을 의미함\n",
        "x_train = Tn_train.drop(['Survived'],axis =1)\n",
        "\n",
        "# <target 데이터>\n",
        "# y_train은 Survived 컬럼만을 의미함.\n",
        "y_train = Tn_train['Survived']\n",
        "\n",
        "# <test 데이터>\n",
        "x_test = Tn_test"
      ],
      "metadata": {
        "id": "H9_fr4Fk3TdQ"
      },
      "execution_count": 27,
      "outputs": []
    },
    {
      "cell_type": "code",
      "source": [
        "# StandardScaler 클래스를 사용해 훈련 세트와 테스트 세트를 표준화 전처리.\n",
        "from sklearn.preprocessing import StandardScaler\n",
        "ss = StandardScaler()\n",
        "ss.fit(x_train)\n",
        "train_scaled = ss.transform(x_train)\n",
        "test_scaled = ss.transform(x_test)"
      ],
      "metadata": {
        "id": "5II1SqC03Tf3"
      },
      "execution_count": 28,
      "outputs": []
    },
    {
      "cell_type": "markdown",
      "source": [
        "## <랜덤 포레스트>"
      ],
      "metadata": {
        "id": "PvGjxq0o2lP8"
      }
    },
    {
      "cell_type": "code",
      "source": [
        "# 랜덤 포레스트를 통한 예측값\n",
        "from sklearn.model_selection import cross_validate\n",
        "from sklearn.ensemble import RandomForestClassifier\n",
        "rf = RandomForestClassifier(oob_score = True, n_jobs = -1)\n",
        "scores = cross_validate(rf, x_train, y_train, return_train_score = True, n_jobs = -1)\n",
        "print(np.mean(scores['train_score']), np.mean(scores['test_score']))"
      ],
      "metadata": {
        "colab": {
          "base_uri": "https://localhost:8080/"
        },
        "id": "sNqurfXL3T5O",
        "outputId": "1656cbb6-b990-4275-a919-4805b19d183e"
      },
      "execution_count": 29,
      "outputs": [
        {
          "output_type": "stream",
          "name": "stdout",
          "text": [
            "0.9862509258237863 0.8114556525014123\n"
          ]
        }
      ]
    },
    {
      "cell_type": "code",
      "source": [
        "# train 데이터 훈련 후 score값 출력\n",
        "rf.fit(x_train, y_train)\n",
        "print(rf.score(x_train, y_train))"
      ],
      "metadata": {
        "colab": {
          "base_uri": "https://localhost:8080/"
        },
        "id": "a9cfs1X63T91",
        "outputId": "a496d014-50d7-4a54-e4ff-1fe9255a5f1c"
      },
      "execution_count": 30,
      "outputs": [
        {
          "output_type": "stream",
          "name": "stdout",
          "text": [
            "0.9842873176206509\n"
          ]
        }
      ]
    },
    {
      "cell_type": "code",
      "source": [
        "# 랜덤포레스트 타이타닉 test데이터 예측\n",
        "pred_RF = rf.predict(Tn_test)"
      ],
      "metadata": {
        "id": "I5OAayA93UAK"
      },
      "execution_count": 31,
      "outputs": []
    },
    {
      "cell_type": "code",
      "source": [
        "# submission의 Survived로 예측\n",
        "Tn_submission['Survived'] =  pred_RF"
      ],
      "metadata": {
        "id": "vlH7iNpmCI3a"
      },
      "execution_count": null,
      "outputs": []
    },
    {
      "cell_type": "code",
      "source": [
        "# submission 예측 csv파일 생성\n",
        "Tn_submission.to_csv('Tn_submission_RF_5.csv', index = False)"
      ],
      "metadata": {
        "id": "AJqIzCKoCI62"
      },
      "execution_count": null,
      "outputs": []
    },
    {
      "cell_type": "markdown",
      "source": [
        "![image.png](data:image/png;base64,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)"
      ],
      "metadata": {
        "id": "VEg3G8uU2WXY"
      }
    },
    {
      "cell_type": "markdown",
      "source": [
        "## <그레이디언트 부스팅>"
      ],
      "metadata": {
        "id": "TXfXtYEb2gnU"
      }
    },
    {
      "cell_type": "code",
      "source": [
        "# 그레이디언트 부스팅을 통한 예측값\n",
        "from sklearn.model_selection import cross_validate\n",
        "from sklearn.ensemble import GradientBoostingClassifier\n",
        "gb = GradientBoostingClassifier(random_state = 42)\n",
        "scores = cross_validate(gb, x_train, y_train, return_train_score = True, n_jobs = -1)\n",
        "print(np.mean(scores['train_score']), np.mean(scores['test_score']))"
      ],
      "metadata": {
        "colab": {
          "base_uri": "https://localhost:8080/"
        },
        "id": "oSmeKBvI3Tsp",
        "outputId": "1572c100-ff3f-43f6-f348-a830492e4b6b"
      },
      "execution_count": 34,
      "outputs": [
        {
          "output_type": "stream",
          "name": "stdout",
          "text": [
            "0.903478339663079 0.8294080723118448\n"
          ]
        }
      ]
    },
    {
      "cell_type": "code",
      "source": [
        "# train 데이터 훈련 후 score값 출력\n",
        "gb.fit(x_train, y_train)\n",
        "print(gb.score(x_train, y_train))"
      ],
      "metadata": {
        "colab": {
          "base_uri": "https://localhost:8080/"
        },
        "id": "oTfxIIUy3TvC",
        "outputId": "28df4183-c9a5-4523-d0f9-950d5a172f97"
      },
      "execution_count": 35,
      "outputs": [
        {
          "output_type": "stream",
          "name": "stdout",
          "text": [
            "0.9034792368125701\n"
          ]
        }
      ]
    },
    {
      "cell_type": "code",
      "source": [
        "# 그레이디언트 부스팅 타이타닉 test데이터 예측\n",
        "pred_GB = gb.predict(Tn_test)"
      ],
      "metadata": {
        "id": "Q3yWkpcL3Tx7"
      },
      "execution_count": 36,
      "outputs": []
    },
    {
      "cell_type": "code",
      "source": [
        "# submission의 Survived로 예측\n",
        "Tn_submission['Survived'] =  pred_GB"
      ],
      "metadata": {
        "id": "XxDkd_jr3T0Q"
      },
      "execution_count": null,
      "outputs": []
    },
    {
      "cell_type": "code",
      "source": [
        "# submission 예측 csv파일 생성\n",
        "Tn_submission.to_csv('Tn_submission_GB_5.csv', index = False)"
      ],
      "metadata": {
        "id": "cBRtu8Oz3T20"
      },
      "execution_count": null,
      "outputs": []
    },
    {
      "cell_type": "markdown",
      "source": [
        "![image.png](data:image/png;base64,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)"
      ],
      "metadata": {
        "id": "DudLjGcW4Cp9"
      }
    }
  ]
}